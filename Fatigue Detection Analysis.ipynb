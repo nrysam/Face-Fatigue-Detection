{
 "cells": [
  {
   "cell_type": "code",
   "execution_count": 26,
   "id": "52651252-efb3-4784-8bea-bacebea0edae",
   "metadata": {},
   "outputs": [],
   "source": [
    "# import necessary libraries\n",
    "import os\n",
    "import torch\n",
    "import torch.nn as nn\n",
    "import torch.optim as optim\n",
    "from torchvision import datasets, transforms, models\n",
    "from torch.utils.data import DataLoader\n",
    "import copy\n",
    "import time\n",
    "from torch.cuda.amp import GradScaler, autocast"
   ]
  },
  {
   "cell_type": "code",
   "execution_count": 27,
   "id": "a9b6a8f3-9c60-409a-a3bb-398d8ee7cd34",
   "metadata": {},
   "outputs": [],
   "source": [
    "# Define data transformations\n",
    "data_transforms = {\n",
    "    'train': transforms.Compose([\n",
    "        transforms.Resize((128, 128)), \n",
    "        transforms.RandomHorizontalFlip(),\n",
    "        transforms.ToTensor(),\n",
    "        transforms.Normalize([0.485, 0.456, 0.406], [0.229, 0.224, 0.225])\n",
    "    ]),\n",
    "    'val': transforms.Compose([\n",
    "        transforms.Resize((128, 128)),\n",
    "        transforms.ToTensor(),\n",
    "        transforms.Normalize([0.485, 0.456, 0.406], [0.229, 0.224, 0.225])\n",
    "    ]),\n",
    "    'test': transforms.Compose([\n",
    "        transforms.Resize((128, 128)),\n",
    "        transforms.ToTensor(),\n",
    "        transforms.Normalize([0.485, 0.456, 0.406], [0.229, 0.224, 0.225])\n",
    "    ]),\n",
    "}"
   ]
  },
  {
   "cell_type": "code",
   "execution_count": 28,
   "id": "367052f6-167e-4f20-a80c-4f6b81bb662b",
   "metadata": {},
   "outputs": [],
   "source": [
    "# Load datasets\n",
    "data_dir = 'data'\n",
    "image_datasets = {x: datasets.ImageFolder(os.path.join(data_dir, x), data_transforms[x])\n",
    "                  for x in ['train', 'val', 'test']}\n",
    "dataloaders = {x: DataLoader(image_datasets[x], batch_size=128, shuffle=True, num_workers=8)\n",
    "               for x in ['train', 'val', 'test']}\n",
    "dataset_sizes = {x: len(image_datasets[x]) for x in ['train', 'val', 'test']}\n",
    "class_names = image_datasets['train'].classes"
   ]
  },
  {
   "cell_type": "code",
   "execution_count": 29,
   "id": "65355a25-29e4-45a6-8294-a92784f0bac4",
   "metadata": {},
   "outputs": [],
   "source": [
    "# Use GPU if available\n",
    "device = torch.device(\"cuda:0\" if torch.cuda.is_available() else \"cpu\")"
   ]
  },
  {
   "cell_type": "code",
   "execution_count": 30,
   "id": "10f3245b-bb4a-4116-882e-91d2a7ab2b46",
   "metadata": {},
   "outputs": [],
   "source": [
    "# Initialize the model\n",
    "model = models.resnet18(pretrained=True)\n",
    "num_ftrs = model.fc.in_features\n",
    "model.fc = nn.Linear(num_ftrs, 2)\n",
    "model = model.to(device)"
   ]
  },
  {
   "cell_type": "code",
   "execution_count": 31,
   "id": "74a6109c-56d3-43f8-9b92-60af6d80dec4",
   "metadata": {},
   "outputs": [
    {
     "name": "stderr",
     "output_type": "stream",
     "text": [
      "C:\\Users\\HSM\\anaconda3\\Lib\\site-packages\\torch\\amp\\grad_scaler.py:131: UserWarning: torch.cuda.amp.GradScaler is enabled, but CUDA is not available.  Disabling.\n",
      "  warnings.warn(\n"
     ]
    }
   ],
   "source": [
    "# Define loss function and optimizer\n",
    "criterion = nn.CrossEntropyLoss()\n",
    "optimizer = optim.SGD(model.parameters(), lr=0.001, momentum=0.9)\n",
    "exp_lr_scheduler = optim.lr_scheduler.StepLR(optimizer, step_size=7, gamma=0.1)\n",
    "\n",
    "# Initialize GradScaler for mixed precision training\n",
    "scaler = GradScaler()"
   ]
  },
  {
   "cell_type": "code",
   "execution_count": 32,
   "id": "900ca04f-ecb2-4261-98d3-33c35ea30b4d",
   "metadata": {},
   "outputs": [],
   "source": [
    "# Function to train and evaluate the model\n",
    "def train_model(model, criterion, optimizer, scheduler, num_epochs=20):\n",
    "    since = time.time()\n",
    "    best_model_wts = copy.deepcopy(model.state_dict())\n",
    "    best_acc = 0.0\n",
    "\n",
    "    for epoch in range(num_epochs):\n",
    "        print(f'Epoch {epoch}/{num_epochs - 1}')\n",
    "        print('-' * 10)\n",
    "\n",
    "        for phase in ['train', 'val']:\n",
    "            if phase == 'train':\n",
    "                model.train()  # Set model to training mode\n",
    "            else:\n",
    "                model.eval()   # Set model to evaluate mode\n",
    "\n",
    "            running_loss = 0.0\n",
    "            running_corrects = 0\n",
    "\n",
    "            for inputs, labels in dataloaders[phase]:\n",
    "                inputs = inputs.to(device)\n",
    "                labels = labels.to(device)\n",
    "\n",
    "                optimizer.zero_grad()\n",
    "\n",
    "                with autocast():  # Use mixed precision\n",
    "                    outputs = model(inputs)\n",
    "                    _, preds = torch.max(outputs, 1)\n",
    "                    loss = criterion(outputs, labels)\n",
    "\n",
    "                if phase == 'train':\n",
    "                    scaler.scale(loss).backward()\n",
    "                    scaler.step(optimizer)\n",
    "                    scaler.update()\n",
    "\n",
    "                running_loss += loss.item() * inputs.size(0)\n",
    "                running_corrects += torch.sum(preds == labels.data)\n",
    "\n",
    "            if phase == 'train':\n",
    "                scheduler.step()\n",
    "\n",
    "            epoch_loss = running_loss / dataset_sizes[phase]\n",
    "            epoch_acc = running_corrects.double() / dataset_sizes[phase]\n",
    "\n",
    "            print(f'{phase} Loss: {epoch_loss:.4f} Acc: {epoch_acc:.4f}')\n",
    "\n",
    "            if phase == 'val' and epoch_acc > best_acc:\n",
    "                best_acc = epoch_acc\n",
    "                best_model_wts = copy.deepcopy(model.state_dict())\n",
    "\n",
    "        print()\n",
    "\n",
    "    time_elapsed = time.time() - since\n",
    "    print(f'Training complete in {time_elapsed // 60:.0f}m {time_elapsed % 60:.0f}s')\n",
    "    print(f'Best val Acc: {best_acc:4f}')\n",
    "\n",
    "    model.load_state_dict(best_model_wts)\n",
    "    return model"
   ]
  },
  {
   "cell_type": "code",
   "execution_count": 33,
   "id": "76d4022c-7707-4670-8952-f8a0afd79485",
   "metadata": {},
   "outputs": [
    {
     "name": "stdout",
     "output_type": "stream",
     "text": [
      "Epoch 0/19\n",
      "----------\n"
     ]
    },
    {
     "name": "stderr",
     "output_type": "stream",
     "text": [
      "C:\\Users\\HSM\\anaconda3\\Lib\\site-packages\\torch\\amp\\autocast_mode.py:250: UserWarning: User provided device_type of 'cuda', but CUDA is not available. Disabling\n",
      "  warnings.warn(\n"
     ]
    },
    {
     "name": "stdout",
     "output_type": "stream",
     "text": [
      "train Loss: 0.5898 Acc: 0.6394\n",
      "val Loss: 0.5400 Acc: 0.6787\n",
      "\n",
      "Epoch 1/19\n",
      "----------\n",
      "train Loss: 0.5534 Acc: 0.6632\n",
      "val Loss: 0.5531 Acc: 0.6294\n",
      "\n",
      "Epoch 2/19\n",
      "----------\n",
      "train Loss: 0.5428 Acc: 0.6676\n",
      "val Loss: 0.5196 Acc: 0.6491\n",
      "\n",
      "Epoch 3/19\n",
      "----------\n",
      "train Loss: 0.5302 Acc: 0.6710\n",
      "val Loss: 0.4329 Acc: 0.8147\n",
      "\n",
      "Epoch 4/19\n",
      "----------\n",
      "train Loss: 0.5206 Acc: 0.6752\n",
      "val Loss: 0.5577 Acc: 0.5768\n",
      "\n",
      "Epoch 5/19\n",
      "----------\n",
      "train Loss: 0.5185 Acc: 0.6746\n",
      "val Loss: 0.3800 Acc: 0.8712\n",
      "\n",
      "Epoch 6/19\n",
      "----------\n",
      "train Loss: 0.5075 Acc: 0.6805\n",
      "val Loss: 0.4063 Acc: 0.7752\n",
      "\n",
      "Epoch 7/19\n",
      "----------\n",
      "train Loss: 0.4930 Acc: 0.6931\n",
      "val Loss: 0.4324 Acc: 0.7286\n",
      "\n",
      "Epoch 8/19\n",
      "----------\n",
      "train Loss: 0.4890 Acc: 0.6918\n",
      "val Loss: 0.4090 Acc: 0.7906\n",
      "\n",
      "Epoch 9/19\n",
      "----------\n",
      "train Loss: 0.4888 Acc: 0.6934\n",
      "val Loss: 0.4273 Acc: 0.7275\n",
      "\n",
      "Epoch 10/19\n",
      "----------\n",
      "train Loss: 0.4867 Acc: 0.6911\n",
      "val Loss: 0.4132 Acc: 0.7648\n",
      "\n",
      "Epoch 11/19\n",
      "----------\n",
      "train Loss: 0.4868 Acc: 0.6886\n",
      "val Loss: 0.4088 Acc: 0.7736\n",
      "\n",
      "Epoch 12/19\n",
      "----------\n",
      "train Loss: 0.4852 Acc: 0.6931\n",
      "val Loss: 0.4018 Acc: 0.7895\n",
      "\n",
      "Epoch 13/19\n",
      "----------\n",
      "train Loss: 0.4839 Acc: 0.6923\n",
      "val Loss: 0.4157 Acc: 0.7445\n",
      "\n",
      "Epoch 14/19\n",
      "----------\n",
      "train Loss: 0.4831 Acc: 0.6937\n",
      "val Loss: 0.4205 Acc: 0.7352\n",
      "\n",
      "Epoch 15/19\n",
      "----------\n",
      "train Loss: 0.4855 Acc: 0.6871\n",
      "val Loss: 0.4028 Acc: 0.7769\n",
      "\n",
      "Epoch 16/19\n",
      "----------\n",
      "train Loss: 0.4828 Acc: 0.6862\n",
      "val Loss: 0.4058 Acc: 0.7714\n",
      "\n",
      "Epoch 17/19\n",
      "----------\n",
      "train Loss: 0.4820 Acc: 0.6917\n",
      "val Loss: 0.4010 Acc: 0.7867\n",
      "\n",
      "Epoch 18/19\n",
      "----------\n",
      "train Loss: 0.4818 Acc: 0.6927\n",
      "val Loss: 0.3970 Acc: 0.7944\n",
      "\n",
      "Epoch 19/19\n",
      "----------\n",
      "train Loss: 0.4831 Acc: 0.6925\n",
      "val Loss: 0.4064 Acc: 0.7659\n",
      "\n",
      "Training complete in 265m 21s\n",
      "Best val Acc: 0.871162\n"
     ]
    }
   ],
   "source": [
    "# Train the model\n",
    "model = train_model(model, criterion, optimizer, exp_lr_scheduler, num_epochs=20)\n",
    "\n",
    "# Save the best model\n",
    "torch.save(model.state_dict(), 'fatigue_detection_model.pth')"
   ]
  },
  {
   "cell_type": "code",
   "execution_count": 34,
   "id": "76462938-a866-415a-8c6b-cb9e532c91e4",
   "metadata": {},
   "outputs": [],
   "source": [
    "# Function to test the model\n",
    "def test_model(model):\n",
    "    model.eval()\n",
    "    running_corrects = 0\n",
    "\n",
    "    with torch.no_grad():\n",
    "        for inputs, labels in dataloaders['test']:\n",
    "            inputs = inputs.to(device)\n",
    "            labels = labels.to(device)\n",
    "\n",
    "            outputs = model(inputs)\n",
    "            _, preds = torch.max(outputs, 1)\n",
    "            running_corrects += torch.sum(preds == labels.data)\n",
    "\n",
    "    test_acc = running_corrects.double() / dataset_sizes['test']\n",
    "    print(f'Test Acc: {test_acc:.4f}')"
   ]
  },
  {
   "cell_type": "code",
   "execution_count": 35,
   "id": "84451b3f-1058-4258-8f9d-0b4d6b80c5ad",
   "metadata": {},
   "outputs": [
    {
     "name": "stdout",
     "output_type": "stream",
     "text": [
      "Test Acc: 0.8735\n"
     ]
    }
   ],
   "source": [
    "# Test the model\n",
    "test_model(model)"
   ]
  },
  {
   "cell_type": "code",
   "execution_count": null,
   "id": "d0d19351-a5af-478f-896a-401f85f7cd97",
   "metadata": {},
   "outputs": [],
   "source": []
  }
 ],
 "metadata": {
  "kernelspec": {
   "display_name": "Python 3 (ipykernel)",
   "language": "python",
   "name": "python3"
  },
  "language_info": {
   "codemirror_mode": {
    "name": "ipython",
    "version": 3
   },
   "file_extension": ".py",
   "mimetype": "text/x-python",
   "name": "python",
   "nbconvert_exporter": "python",
   "pygments_lexer": "ipython3",
   "version": "3.11.7"
  }
 },
 "nbformat": 4,
 "nbformat_minor": 5
}
